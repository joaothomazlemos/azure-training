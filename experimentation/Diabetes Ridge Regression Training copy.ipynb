{
 "cells": [
  {
   "cell_type": "code",
   "execution_count": 2,
   "metadata": {},
   "outputs": [],
   "source": [
    "from sklearn.datasets import load_diabetes\n",
    "from sklearn.linear_model import Ridge\n",
    "from sklearn.metrics import mean_squared_error\n",
    "from sklearn.model_selection import train_test_split\n",
    "import joblib\n",
    "import pandas as pd"
   ]
  },
  {
   "cell_type": "code",
   "execution_count": 8,
   "metadata": {},
   "outputs": [],
   "source": [
    "def split_data(df: 'Dataframe') -> 'Dict':\n",
    "    \"\"\"Split data into train and test sets\"\"\"\n",
    "    X = df.drop('Y', axis=1).values\n",
    "    y = df['Y'].values\n",
    "    X_train, X_test, y_train, y_test = train_test_split(X, y, test_size=0.2, random_state=42)\n",
    "    data = {'train': {'X': X_train, 'y': y_train},\n",
    "            'test': {'X': X_test, 'y': y_test}}\n",
    "    return data"
   ]
  },
  {
   "cell_type": "code",
   "execution_count": 9,
   "metadata": {},
   "outputs": [],
   "source": [
    "def train_model(data, args):\n",
    "    'which takes the parameters data and args and returns a trained model.'\n",
    "    reg_model = Ridge(**args)\n",
    "    reg_model.fit(data['train']['X'], data['train']['y'])\n",
    "\n",
    "    return reg_model"
   ]
  },
  {
   "cell_type": "code",
   "execution_count": 10,
   "metadata": {},
   "outputs": [],
   "source": [
    "def get_model_metrics(reg_model, data):\n",
    "    preds = reg_model.predict(data['test']['X'])\n",
    "    mse = mean_squared_error(preds, data['test']['y'])\n",
    "    metrics = {'mse': mse}\n",
    "    return metrics"
   ]
  },
  {
   "cell_type": "code",
   "execution_count": null,
   "metadata": {},
   "outputs": [],
   "source": [
    "def main():\n",
    "    #load data\n",
    "    sample_data = load_diabetes()\n",
    "    df = pd.DataFrame(\n",
    "        data=sample_data.data,\n",
    "        columns=sample_data.feature_names)\n",
    "    df['Y'] = sample_data.target\n",
    "\n",
    "    # Split Data into Training and Validation Sets\n",
    "    data = split_data(df)\n",
    "\n",
    "    # Train Model on Training Set\n",
    "    args = {\n",
    "        \"alpha\": 0.5\n",
    "    }\n",
    "    reg = train_model(data, args)\n",
    "\n",
    "    # Validate Model on Validation Set\n",
    "    metrics = get_model_metrics(reg, data)\n",
    "\n",
    "    # Save Model\n",
    "    model_name = \"sklearn_regression_model.pkl\"\n",
    "\n",
    "    joblib.dump(value=reg_model, filename=model_name)"
   ]
  },
  {
   "cell_type": "code",
   "execution_count": 14,
   "metadata": {},
   "outputs": [
    {
     "data": {
      "text/plain": [
       "['sklearn_regression_model.pkl']"
      ]
     },
     "execution_count": 14,
     "metadata": {},
     "output_type": "execute_result"
    }
   ],
   "source": [
    "main()"
   ]
  }
 ],
 "metadata": {
  "kernelspec": {
   "display_name": "Python 3",
   "language": "python",
   "name": "python3"
  },
  "language_info": {
   "codemirror_mode": {
    "name": "ipython",
    "version": 3
   },
   "file_extension": ".py",
   "mimetype": "text/x-python",
   "name": "python",
   "nbconvert_exporter": "python",
   "pygments_lexer": "ipython3",
   "version": "3.11.4"
  }
 },
 "nbformat": 4,
 "nbformat_minor": 2
}
